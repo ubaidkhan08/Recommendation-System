{
 "cells": [
  {
   "cell_type": "markdown",
   "id": "9894309e",
   "metadata": {},
   "source": [
    "# User-User Collaborative Filtering in Recommendation System"
   ]
  },
  {
   "cell_type": "markdown",
   "id": "4e9e6aa3",
   "metadata": {},
   "source": [
    "# Libraries"
   ]
  },
  {
   "cell_type": "code",
   "execution_count": 2,
   "id": "bc2765fb",
   "metadata": {},
   "outputs": [],
   "source": [
    "import os\n",
    "import math\n",
    "import pickle\n",
    "import numpy as np\n",
    "import pandas as pd\n",
    "import tensorflow as tf\n",
    "from tensorflow.keras import layers\n",
    "from scipy.spatial.distance import cosine\n",
    "import matplotlib.pyplot as plt\n",
    "from keras import backend as K"
   ]
  },
  {
   "cell_type": "markdown",
   "id": "41913952",
   "metadata": {},
   "source": [
    "# "
   ]
  },
  {
   "cell_type": "markdown",
   "id": "ad9c6a9f",
   "metadata": {},
   "source": [
    "# Reading the datasets"
   ]
  },
  {
   "cell_type": "code",
   "execution_count": 3,
   "id": "d18a2be4",
   "metadata": {},
   "outputs": [],
   "source": [
    "dataset = pd.read_csv('data/Dataset.csv')\n",
    "movie_id_mapping = pd.read_csv('data/Movie_Id_Titles.csv')\n",
    "\n",
    "users = sorted(dataset['user_id'].unique())\n",
    "movies_len = dataset['item_id'].nunique()\n",
    "_matrix = {}\n",
    "\n",
    "for user in users: _matrix[user] = [None]*movies_len"
   ]
  },
  {
   "cell_type": "markdown",
   "id": "b8a218d6",
   "metadata": {},
   "source": [
    "# "
   ]
  },
  {
   "cell_type": "markdown",
   "id": "6461effa",
   "metadata": {},
   "source": [
    "# Creating the user movie rating matrix\n",
    "Each row will represent a distinct user and each column will represent a distinct movie. The rating given by the user for a particular movie will be the value of the matrix. If the rating for a specific movie by a specific user is unavailable, the value will be None or null. This matrix can be saved for improving the recommendation engine's performance and efficiency."
   ]
  },
  {
   "cell_type": "code",
   "execution_count": 4,
   "id": "d28de6c9",
   "metadata": {},
   "outputs": [
    {
     "data": {
      "text/html": [
       "<div>\n",
       "<style scoped>\n",
       "    .dataframe tbody tr th:only-of-type {\n",
       "        vertical-align: middle;\n",
       "    }\n",
       "\n",
       "    .dataframe tbody tr th {\n",
       "        vertical-align: top;\n",
       "    }\n",
       "\n",
       "    .dataframe thead th {\n",
       "        text-align: right;\n",
       "    }\n",
       "</style>\n",
       "<table border=\"1\" class=\"dataframe\">\n",
       "  <thead>\n",
       "    <tr style=\"text-align: right;\">\n",
       "      <th></th>\n",
       "      <th>0</th>\n",
       "      <th>1</th>\n",
       "      <th>2</th>\n",
       "      <th>3</th>\n",
       "      <th>4</th>\n",
       "      <th>5</th>\n",
       "      <th>6</th>\n",
       "      <th>7</th>\n",
       "      <th>8</th>\n",
       "      <th>9</th>\n",
       "      <th>...</th>\n",
       "      <th>1672</th>\n",
       "      <th>1673</th>\n",
       "      <th>1674</th>\n",
       "      <th>1675</th>\n",
       "      <th>1676</th>\n",
       "      <th>1677</th>\n",
       "      <th>1678</th>\n",
       "      <th>1679</th>\n",
       "      <th>1680</th>\n",
       "      <th>1681</th>\n",
       "    </tr>\n",
       "  </thead>\n",
       "  <tbody>\n",
       "    <tr>\n",
       "      <th>0</th>\n",
       "      <td>NaN</td>\n",
       "      <td>NaN</td>\n",
       "      <td>NaN</td>\n",
       "      <td>NaN</td>\n",
       "      <td>NaN</td>\n",
       "      <td>NaN</td>\n",
       "      <td>NaN</td>\n",
       "      <td>NaN</td>\n",
       "      <td>NaN</td>\n",
       "      <td>NaN</td>\n",
       "      <td>...</td>\n",
       "      <td>NaN</td>\n",
       "      <td>NaN</td>\n",
       "      <td>NaN</td>\n",
       "      <td>NaN</td>\n",
       "      <td>NaN</td>\n",
       "      <td>NaN</td>\n",
       "      <td>NaN</td>\n",
       "      <td>NaN</td>\n",
       "      <td>NaN</td>\n",
       "      <td>NaN</td>\n",
       "    </tr>\n",
       "    <tr>\n",
       "      <th>1</th>\n",
       "      <td>5.0</td>\n",
       "      <td>3.0</td>\n",
       "      <td>4.0</td>\n",
       "      <td>3.0</td>\n",
       "      <td>3.0</td>\n",
       "      <td>5.0</td>\n",
       "      <td>4.0</td>\n",
       "      <td>1.0</td>\n",
       "      <td>5.0</td>\n",
       "      <td>3.0</td>\n",
       "      <td>...</td>\n",
       "      <td>NaN</td>\n",
       "      <td>NaN</td>\n",
       "      <td>NaN</td>\n",
       "      <td>NaN</td>\n",
       "      <td>NaN</td>\n",
       "      <td>NaN</td>\n",
       "      <td>NaN</td>\n",
       "      <td>NaN</td>\n",
       "      <td>NaN</td>\n",
       "      <td>NaN</td>\n",
       "    </tr>\n",
       "    <tr>\n",
       "      <th>2</th>\n",
       "      <td>4.0</td>\n",
       "      <td>NaN</td>\n",
       "      <td>NaN</td>\n",
       "      <td>NaN</td>\n",
       "      <td>NaN</td>\n",
       "      <td>NaN</td>\n",
       "      <td>NaN</td>\n",
       "      <td>NaN</td>\n",
       "      <td>NaN</td>\n",
       "      <td>2.0</td>\n",
       "      <td>...</td>\n",
       "      <td>NaN</td>\n",
       "      <td>NaN</td>\n",
       "      <td>NaN</td>\n",
       "      <td>NaN</td>\n",
       "      <td>NaN</td>\n",
       "      <td>NaN</td>\n",
       "      <td>NaN</td>\n",
       "      <td>NaN</td>\n",
       "      <td>NaN</td>\n",
       "      <td>NaN</td>\n",
       "    </tr>\n",
       "    <tr>\n",
       "      <th>3</th>\n",
       "      <td>NaN</td>\n",
       "      <td>NaN</td>\n",
       "      <td>NaN</td>\n",
       "      <td>NaN</td>\n",
       "      <td>NaN</td>\n",
       "      <td>NaN</td>\n",
       "      <td>NaN</td>\n",
       "      <td>NaN</td>\n",
       "      <td>NaN</td>\n",
       "      <td>NaN</td>\n",
       "      <td>...</td>\n",
       "      <td>NaN</td>\n",
       "      <td>NaN</td>\n",
       "      <td>NaN</td>\n",
       "      <td>NaN</td>\n",
       "      <td>NaN</td>\n",
       "      <td>NaN</td>\n",
       "      <td>NaN</td>\n",
       "      <td>NaN</td>\n",
       "      <td>NaN</td>\n",
       "      <td>NaN</td>\n",
       "    </tr>\n",
       "    <tr>\n",
       "      <th>4</th>\n",
       "      <td>NaN</td>\n",
       "      <td>NaN</td>\n",
       "      <td>NaN</td>\n",
       "      <td>NaN</td>\n",
       "      <td>NaN</td>\n",
       "      <td>NaN</td>\n",
       "      <td>NaN</td>\n",
       "      <td>NaN</td>\n",
       "      <td>NaN</td>\n",
       "      <td>NaN</td>\n",
       "      <td>...</td>\n",
       "      <td>NaN</td>\n",
       "      <td>NaN</td>\n",
       "      <td>NaN</td>\n",
       "      <td>NaN</td>\n",
       "      <td>NaN</td>\n",
       "      <td>NaN</td>\n",
       "      <td>NaN</td>\n",
       "      <td>NaN</td>\n",
       "      <td>NaN</td>\n",
       "      <td>NaN</td>\n",
       "    </tr>\n",
       "  </tbody>\n",
       "</table>\n",
       "<p>5 rows × 1682 columns</p>\n",
       "</div>"
      ],
      "text/plain": [
       "     0    1    2    3    4    5    6    7    8    9  ...  1672  1673  1674  \\\n",
       "0  NaN  NaN  NaN  NaN  NaN  NaN  NaN  NaN  NaN  NaN  ...   NaN   NaN   NaN   \n",
       "1  5.0  3.0  4.0  3.0  3.0  5.0  4.0  1.0  5.0  3.0  ...   NaN   NaN   NaN   \n",
       "2  4.0  NaN  NaN  NaN  NaN  NaN  NaN  NaN  NaN  2.0  ...   NaN   NaN   NaN   \n",
       "3  NaN  NaN  NaN  NaN  NaN  NaN  NaN  NaN  NaN  NaN  ...   NaN   NaN   NaN   \n",
       "4  NaN  NaN  NaN  NaN  NaN  NaN  NaN  NaN  NaN  NaN  ...   NaN   NaN   NaN   \n",
       "\n",
       "   1675  1676  1677  1678  1679  1680  1681  \n",
       "0   NaN   NaN   NaN   NaN   NaN   NaN   NaN  \n",
       "1   NaN   NaN   NaN   NaN   NaN   NaN   NaN  \n",
       "2   NaN   NaN   NaN   NaN   NaN   NaN   NaN  \n",
       "3   NaN   NaN   NaN   NaN   NaN   NaN   NaN  \n",
       "4   NaN   NaN   NaN   NaN   NaN   NaN   NaN  \n",
       "\n",
       "[5 rows x 1682 columns]"
      ]
     },
     "execution_count": 4,
     "metadata": {},
     "output_type": "execute_result"
    }
   ],
   "source": [
    "users = sorted(dataset['user_id'].unique())\n",
    "movies_len = dataset['item_id'].nunique()\n",
    "_matrix = {}\n",
    "\n",
    "for user in users: \n",
    "    _matrix[user] = [None]*movies_len\n",
    "    \n",
    "for user in users:\n",
    "    _movies = dataset[(dataset['user_id']==user)][['item_id','rating']]\n",
    "    for i in _movies['item_id']: _matrix[user][i-1] = list(_movies[_movies['item_id']==i]['rating'])[0]\n",
    "        \n",
    "pd.DataFrame([_matrix[user] for user in users],users).to_csv('matrix.csv',index=False)\n",
    "\n",
    "del _matrix\n",
    "\n",
    "matrix = pd.read_csv('./matrix.csv')\n",
    "matrix.head()"
   ]
  },
  {
   "cell_type": "markdown",
   "id": "21e35040",
   "metadata": {},
   "source": [
    "# "
   ]
  },
  {
   "cell_type": "markdown",
   "id": "f4b353c0",
   "metadata": {},
   "source": [
    "# Normalizing the user movie matrix values\n",
    "The rating value will be normalized by subtracting the mean value given by a user for all the movies he/she has ever rated. The null values will also be filled using the same mean that we subtracted."
   ]
  },
  {
   "cell_type": "code",
   "execution_count": 5,
   "id": "e3919722",
   "metadata": {},
   "outputs": [],
   "source": [
    "def normalize_and_fillna(x):\n",
    "    _mean = x.mean()\n",
    "    x = x-_mean\n",
    "    x = x.fillna(_mean)\n",
    "    return x\n",
    "    \n",
    "matrix = matrix.apply(normalize_and_fillna, axis=1)"
   ]
  },
  {
   "cell_type": "markdown",
   "id": "0e7fc3da",
   "metadata": {},
   "source": [
    "# "
   ]
  },
  {
   "cell_type": "markdown",
   "id": "f2224919",
   "metadata": {},
   "source": [
    "# Calculating similarity between 2 vectors using cosine\n",
    "Creating a function to calculate the degree between 2 vectors using cosine. If smaller the degree, higher the similarity.\n",
    "\n",
    "cos(theta) = (a . b) / |a|.|b|"
   ]
  },
  {
   "cell_type": "code",
   "execution_count": 6,
   "id": "617076a7",
   "metadata": {},
   "outputs": [],
   "source": [
    "def calc_cos_data(a,b,print_data=False):\n",
    "    mod_a = sum([i**2 for i in a])**0.5\n",
    "    mod_b = sum([i**2 for i in b])**0.5\n",
    "\n",
    "    numerator = sum([a[i]*b[i] for i in range(2)])\n",
    "    denom = mod_a*mod_b\n",
    "\n",
    "    cos_theta = numerator/denom\n",
    "    theta = np.arccos(cos_theta)\n",
    "    degree = math.degrees(theta)\n",
    "    \n",
    "    if print_data:\n",
    "        print('cos theta: ' + str(round(cos_theta,5)))\n",
    "        print('cosine similarity: '+str(round(1-cos_theta,5)))\n",
    "        print('theta: ' + str(theta) +' rad')\n",
    "        print('degree: ' + str(degree) +' degree')\n",
    "    else: return degree"
   ]
  },
  {
   "cell_type": "markdown",
   "id": "1125e1ea",
   "metadata": {},
   "source": [
    "# "
   ]
  },
  {
   "cell_type": "markdown",
   "id": "f8bcf218",
   "metadata": {},
   "source": [
    "# Calculating the similarity matrix between users\n",
    "Each row and column will represent a distinct user and the degree of similarity will be the value present in the matrix. The smaller the degree, higher the similarity. This matrix can be saved for improving the recommendation engine's performance and efficiency."
   ]
  },
  {
   "cell_type": "code",
   "execution_count": 7,
   "id": "13440ffa",
   "metadata": {},
   "outputs": [],
   "source": [
    "similarity_matrix = []\n",
    "\n",
    "for user1 in users:\n",
    "    vals = [calc_cos_data(matrix.iloc[user1],matrix.iloc[user2]) for user2 in users]\n",
    "    similarity_matrix.append(vals)\n",
    "\n",
    "np.array(similarity_matrix).shape\n",
    "\n",
    "pd.DataFrame(similarity_matrix).to_csv('user_user_similarity_matrix.csv', index=False)\n",
    "\n",
    "similar_users_matrix = pd.read_csv('user_user_similarity_matrix.csv')"
   ]
  },
  {
   "cell_type": "markdown",
   "id": "9d596e9d",
   "metadata": {},
   "source": [
    "# "
   ]
  },
  {
   "cell_type": "markdown",
   "id": "5bf47f79",
   "metadata": {},
   "source": [
    "# Making the recommendations\n",
    "To recommend movies for a user \"u\", we will do the following sequentially.\n",
    "\n",
    "Find n number of similar users using the similarity matrix [smaller the value, higher the similarity].\n",
    "Find movies that have been rated greater than or equal to a specific rating value \"v\" using the user-movie rating matrix.\n",
    "Find the common movies in the whole set, which will be the movies to recommend.\n",
    "Remove the movies which the user \"u\" has already watched [the user has watched the movie if he has rated it] and recommend them."
   ]
  },
  {
   "cell_type": "code",
   "execution_count": 198,
   "id": "247a3eaa",
   "metadata": {},
   "outputs": [
    {
     "name": "stdout",
     "output_type": "stream",
     "text": [
      "similar users for user 1: [774, 551, 466, 405, 22]\n"
     ]
    },
    {
     "data": {
      "text/html": [
       "<div>\n",
       "<style scoped>\n",
       "    .dataframe tbody tr th:only-of-type {\n",
       "        vertical-align: middle;\n",
       "    }\n",
       "\n",
       "    .dataframe tbody tr th {\n",
       "        vertical-align: top;\n",
       "    }\n",
       "\n",
       "    .dataframe thead th {\n",
       "        text-align: right;\n",
       "    }\n",
       "</style>\n",
       "<table border=\"1\" class=\"dataframe\">\n",
       "  <thead>\n",
       "    <tr style=\"text-align: right;\">\n",
       "      <th></th>\n",
       "      <th>item_id</th>\n",
       "    </tr>\n",
       "  </thead>\n",
       "  <tbody>\n",
       "    <tr>\n",
       "      <th>0</th>\n",
       "      <td>402</td>\n",
       "    </tr>\n",
       "  </tbody>\n",
       "</table>\n",
       "</div>"
      ],
      "text/plain": [
       "   item_id\n",
       "0      402"
      ]
     },
     "execution_count": 198,
     "metadata": {},
     "output_type": "execute_result"
    }
   ],
   "source": [
    "number_of_similar_users = 5\n",
    "idx = 1\n",
    "values = similar_users_matrix.iloc[idx]\n",
    "\n",
    "similar_users = set(sorted(range(len(values)), key=lambda i: values[i])[:number_of_similar_users])\n",
    "similar_users.discard(idx)\n",
    "similar_users = list(similar_users)\n",
    "\n",
    "print(f'similar users for user {idx}: {similar_users}')\n",
    "\n",
    "matrix = pd.read_csv('./matrix.csv')\n",
    "\n",
    "vals = [list(matrix.iloc[i].values) for i in similar_users]\n",
    "\n",
    "good_ratings = {}\n",
    "\n",
    "for j in range(5):\n",
    "    user = similar_users[j]\n",
    "    i = vals[j]\n",
    "    v = [index for index in range(len(i)) if i[index]==5]\n",
    "    good_ratings[user] = set(v)\n",
    "\n",
    "common_movies = set()\n",
    "\n",
    "for i in range(5):\n",
    "    if len(common_movies) == 0: common_movies = common_movies.union(good_ratings[similar_users[i]])\n",
    "    else: common_movies = common_movies.intersection((good_ratings[similar_users[i]]))\n",
    "\n",
    "unseen_movies = []\n",
    "_temp = list(matrix.iloc[idx].isnull())\n",
    "\n",
    "for i in range(len(_temp)):\n",
    "    if _temp[i]==True: unseen_movies.append(i)\n",
    "\n",
    "unseen_movies = set(unseen_movies)\n",
    "\n",
    "common_movies = common_movies.intersection(unseen_movies)\n",
    "recommendations = pd.DataFrame({'item_id':list(common_movies)})\n",
    "recommendations"
   ]
  },
  {
   "cell_type": "markdown",
   "id": "c6e3c242",
   "metadata": {},
   "source": [
    "# "
   ]
  },
  {
   "cell_type": "markdown",
   "id": "70fdfecc",
   "metadata": {},
   "source": [
    "# Creating a general function to perform the recommendation\n",
    "You can generate the recommendations by simply calling the recommend function by passing in the following:\n",
    "\n",
    "user_index: the user for whom we have to make the recommendation\n",
    "number_of_similar_users: the number of similar users to use for making the recommendation\n",
    "min_rating: the minimum rating required for a movie to be consider as liked by a user"
   ]
  },
  {
   "cell_type": "code",
   "execution_count": 200,
   "id": "e807e853",
   "metadata": {},
   "outputs": [],
   "source": [
    "#  function to find n similar users for user index using the similar users matrix file\n",
    "def find_similar_users(user_index, number_of_similar_users=5):\n",
    "    idx = user_index\n",
    "    values = similar_users_matrix.iloc[idx]\n",
    "\n",
    "    similar_users = set(sorted(range(len(values)), key=lambda i: values[i])[:number_of_similar_users])\n",
    "    similar_users.discard(idx)\n",
    "    similar_users = list(similar_users)\n",
    "    return similar_users\n",
    "\n",
    "\n",
    "#  find top rated movies by users\n",
    "def find_good_rated_movies(users, min_rating=5):\n",
    "    vals = [list(matrix.iloc[i].values) for i in users]\n",
    "    good_ratings = {}\n",
    "\n",
    "    for j in range(len(users)):\n",
    "        user = users[j]\n",
    "        i = vals[j]\n",
    "        v = [index for index in range(len(i)) if i[index]>=min_rating]\n",
    "        good_ratings[user] = set(v)\n",
    "    return good_ratings\n",
    "\n",
    "def find_common_movies_list(user_index, similar_users, good_ratings):\n",
    "    idx = user_index\n",
    "    common_movies = set()\n",
    "\n",
    "    for i in range(len(similar_users)):\n",
    "        if len(common_movies) == 0: common_movies = common_movies.union(good_ratings[similar_users[i]])\n",
    "        else: common_movies = common_movies.intersection((good_ratings[similar_users[i]]))\n",
    "\n",
    "    unseen_movies = []\n",
    "    _temp = list(matrix.iloc[idx].isnull())\n",
    "\n",
    "    for i in range(len(_temp)):\n",
    "        if _temp[i]==True: unseen_movies.append(i)\n",
    "\n",
    "    unseen_movies = set(unseen_movies)\n",
    "\n",
    "    common_movies = common_movies.intersection(unseen_movies)\n",
    "    recommendations = pd.DataFrame({'item_id':list(common_movies)})\n",
    "    recommendations = recommendations.merge(movie_id_mapping,how='left',on='item_id')\n",
    "    return recommendations\n",
    "\n",
    "def recommend(user_index, number_of_similar_users=5, minimum_good_rating=5):\n",
    "    print(f'user: {user_index}')\n",
    "    similar_users = find_similar_users(user_index,number_of_similar_users)\n",
    "    print(f'similar users: {similar_users}')\n",
    "    good_ratings = find_good_rated_movies(similar_users,minimum_good_rating)\n",
    "    recommendations = find_common_movies_list(user_index,similar_users,good_ratings)\n",
    "    return recommendations"
   ]
  },
  {
   "cell_type": "markdown",
   "id": "7d6d1b00",
   "metadata": {},
   "source": [
    "# "
   ]
  },
  {
   "cell_type": "markdown",
   "id": "3d37753c",
   "metadata": {},
   "source": [
    "# Predictions!"
   ]
  },
  {
   "cell_type": "code",
   "execution_count": 220,
   "id": "6203963d",
   "metadata": {},
   "outputs": [
    {
     "name": "stdout",
     "output_type": "stream",
     "text": [
      "user: 276\n",
      "similar users: [90, 7, 328, 524, 269, 334, 181, 758, 85, 474]\n"
     ]
    },
    {
     "data": {
      "text/html": [
       "<div>\n",
       "<style scoped>\n",
       "    .dataframe tbody tr th:only-of-type {\n",
       "        vertical-align: middle;\n",
       "    }\n",
       "\n",
       "    .dataframe tbody tr th {\n",
       "        vertical-align: top;\n",
       "    }\n",
       "\n",
       "    .dataframe thead th {\n",
       "        text-align: right;\n",
       "    }\n",
       "</style>\n",
       "<table border=\"1\" class=\"dataframe\">\n",
       "  <thead>\n",
       "    <tr style=\"text-align: right;\">\n",
       "      <th></th>\n",
       "      <th>item_id</th>\n",
       "      <th>title</th>\n",
       "    </tr>\n",
       "  </thead>\n",
       "  <tbody>\n",
       "    <tr>\n",
       "      <th>0</th>\n",
       "      <td>480</td>\n",
       "      <td>North by Northwest (1959)</td>\n",
       "    </tr>\n",
       "    <tr>\n",
       "      <th>1</th>\n",
       "      <td>513</td>\n",
       "      <td>Third Man, The (1949)</td>\n",
       "    </tr>\n",
       "    <tr>\n",
       "      <th>2</th>\n",
       "      <td>482</td>\n",
       "      <td>Some Like It Hot (1959)</td>\n",
       "    </tr>\n",
       "    <tr>\n",
       "      <th>3</th>\n",
       "      <td>133</td>\n",
       "      <td>Gone with the Wind (1939)</td>\n",
       "    </tr>\n",
       "    <tr>\n",
       "      <th>4</th>\n",
       "      <td>198</td>\n",
       "      <td>Nikita (La Femme Nikita) (1990)</td>\n",
       "    </tr>\n",
       "    <tr>\n",
       "      <th>5</th>\n",
       "      <td>169</td>\n",
       "      <td>Wrong Trousers, The (1993)</td>\n",
       "    </tr>\n",
       "    <tr>\n",
       "      <th>6</th>\n",
       "      <td>653</td>\n",
       "      <td>Touch of Evil (1958)</td>\n",
       "    </tr>\n",
       "    <tr>\n",
       "      <th>7</th>\n",
       "      <td>526</td>\n",
       "      <td>Ben-Hur (1959)</td>\n",
       "    </tr>\n",
       "    <tr>\n",
       "      <th>8</th>\n",
       "      <td>508</td>\n",
       "      <td>People vs. Larry Flynt, The (1996)</td>\n",
       "    </tr>\n",
       "    <tr>\n",
       "      <th>9</th>\n",
       "      <td>656</td>\n",
       "      <td>M (1931)</td>\n",
       "    </tr>\n",
       "  </tbody>\n",
       "</table>\n",
       "</div>"
      ],
      "text/plain": [
       "   item_id                               title\n",
       "0      480           North by Northwest (1959)\n",
       "1      513               Third Man, The (1949)\n",
       "2      482             Some Like It Hot (1959)\n",
       "3      133           Gone with the Wind (1939)\n",
       "4      198     Nikita (La Femme Nikita) (1990)\n",
       "5      169          Wrong Trousers, The (1993)\n",
       "6      653                Touch of Evil (1958)\n",
       "7      526                      Ben-Hur (1959)\n",
       "8      508  People vs. Larry Flynt, The (1996)\n",
       "9      656                            M (1931)"
      ]
     },
     "execution_count": 220,
     "metadata": {},
     "output_type": "execute_result"
    }
   ],
   "source": [
    "user_idx = 276\n",
    "number_of_similar_users = 10\n",
    "min_rating = 4\n",
    "\n",
    "data = recommend(user_idx,number_of_similar_users,min_rating)\n",
    "data.head(10)"
   ]
  },
  {
   "cell_type": "markdown",
   "id": "5963e90e",
   "metadata": {},
   "source": [
    "# "
   ]
  },
  {
   "cell_type": "markdown",
   "id": "9c90d451",
   "metadata": {},
   "source": [
    "# "
   ]
  },
  {
   "cell_type": "markdown",
   "id": "4ac4bbb8",
   "metadata": {},
   "source": [
    "# Item-based Collaborative Filtering in Recommendation System"
   ]
  },
  {
   "cell_type": "markdown",
   "id": "e4d0aa25",
   "metadata": {},
   "source": [
    "# Importing Libraries & Datasets"
   ]
  },
  {
   "cell_type": "code",
   "execution_count": 153,
   "id": "82a19a3c",
   "metadata": {},
   "outputs": [],
   "source": [
    "import numpy as np\n",
    "import pandas as pd\n",
    "import matplotlib.pyplot as plt\n",
    "import seaborn as sns\n",
    "%matplotlib inline\n",
    "\n",
    "rating = pd.read_csv(\"data/Dataset.csv\")\n",
    "movie = pd.read_csv(\"data/Movie_Id_Titles.csv\")\n",
    "df = pd.merge(movie, rating, on='item_id')\n",
    "\n",
    "# Average Rating and Number of Ratings + Pivot Table!\n",
    "ratings = pd.DataFrame(df.groupby('title')['rating'].mean())\n",
    "ratings['rating_numbers'] = pd.DataFrame(df.groupby('title')['rating'].count())\n",
    "movieRate = df.pivot_table(index='user_id', columns='title', values='rating')\n",
    "movieRate.fillna(0, inplace=True)\n",
    "\n",
    "# Recommendation system\n",
    "def recommendMovies(name , min_rating_count = 50):\n",
    "    user_rating = movieRate[name]\n",
    "    similar_movies = movieRate.corrwith(user_rating)\n",
    "    corr_movies = pd.DataFrame(similar_movies, columns=['Correlation'])\n",
    "    corr_movies.dropna(inplace=True)\n",
    "    corr_movies = corr_movies.join(ratings['rating_numbers'], how='left', lsuffix='_left', rsuffix='_right')\n",
    "    final = corr_movies[corr_movies['rating_numbers']>min_rating_count].sort_values('Correlation', ascending=False)\n",
    "    dfff = final.merge(df,how='left',on='title')\n",
    "    dfff = dfff.groupby(['title', 'Correlation', 'rating_numbers', 'item_id']).size().to_frame()[0].to_frame().reset_index()\n",
    "    dfff = dfff[['title','Correlation','rating_numbers','item_id']].sort_values(by=['Correlation'], ascending=False)\n",
    "    return dfff.head(20)"
   ]
  },
  {
   "cell_type": "markdown",
   "id": "ca53678d",
   "metadata": {},
   "source": [
    "# "
   ]
  },
  {
   "cell_type": "markdown",
   "id": "0ccd5f68",
   "metadata": {},
   "source": [
    "# `FINAL` "
   ]
  },
  {
   "cell_type": "markdown",
   "id": "5b9486ed",
   "metadata": {},
   "source": [
    "# Merging IB-CF & GCN"
   ]
  },
  {
   "cell_type": "code",
   "execution_count": 148,
   "id": "7267908d",
   "metadata": {
    "scrolled": true
   },
   "outputs": [],
   "source": [
    "def both(fav_movie):\n",
    "    df = recommendMovies(fav_movie)\n",
    "    ser1 = df['title']\n",
    "    ser2 = df['item_id']\n",
    "\n",
    "    def predict(user_id):\n",
    "        prediction = []\n",
    "        for x in (ser2):\n",
    "            a = model.predict([(user_id, x)])\n",
    "            prediction.append(a)\n",
    "        return prediction\n",
    "\n",
    "    top = predict(0)\n",
    "\n",
    "    # combine the Series and list into a DataFrame\n",
    "    df = pd.DataFrame({'Title': ser1, 'Your Predicted Rating': top})\n",
    "    df = df.reset_index(drop=True)\n",
    "    df = df.sort_values(by=['Your Predicted Rating'], ascending=False)\n",
    "    return df"
   ]
  },
  {
   "cell_type": "markdown",
   "id": "4c986726",
   "metadata": {},
   "source": [
    "# "
   ]
  },
  {
   "cell_type": "code",
   "execution_count": 156,
   "id": "31efb1cb",
   "metadata": {},
   "outputs": [
    {
     "name": "stdout",
     "output_type": "stream",
     "text": [
      "1/1 [==============================] - 0s 63ms/step\n",
      "1/1 [==============================] - 0s 66ms/step\n",
      "1/1 [==============================] - 0s 59ms/step\n",
      "1/1 [==============================] - 0s 69ms/step\n",
      "1/1 [==============================] - 0s 73ms/step\n",
      "1/1 [==============================] - 0s 68ms/step\n",
      "1/1 [==============================] - 0s 65ms/step\n",
      "1/1 [==============================] - 0s 56ms/step\n",
      "1/1 [==============================] - 0s 63ms/step\n",
      "1/1 [==============================] - 0s 62ms/step\n",
      "1/1 [==============================] - 0s 87ms/step\n",
      "1/1 [==============================] - 0s 49ms/step\n",
      "1/1 [==============================] - 0s 40ms/step\n",
      "1/1 [==============================] - 0s 47ms/step\n",
      "1/1 [==============================] - 0s 60ms/step\n",
      "1/1 [==============================] - 0s 56ms/step\n",
      "1/1 [==============================] - 0s 39ms/step\n",
      "1/1 [==============================] - 0s 47ms/step\n",
      "1/1 [==============================] - 0s 46ms/step\n",
      "1/1 [==============================] - 0s 72ms/step\n"
     ]
    },
    {
     "data": {
      "text/html": [
       "<div>\n",
       "<style scoped>\n",
       "    .dataframe tbody tr th:only-of-type {\n",
       "        vertical-align: middle;\n",
       "    }\n",
       "\n",
       "    .dataframe tbody tr th {\n",
       "        vertical-align: top;\n",
       "    }\n",
       "\n",
       "    .dataframe thead th {\n",
       "        text-align: right;\n",
       "    }\n",
       "</style>\n",
       "<table border=\"1\" class=\"dataframe\">\n",
       "  <thead>\n",
       "    <tr style=\"text-align: right;\">\n",
       "      <th></th>\n",
       "      <th>Title</th>\n",
       "      <th>Your Predicted Rating</th>\n",
       "    </tr>\n",
       "  </thead>\n",
       "  <tbody>\n",
       "    <tr>\n",
       "      <th>16</th>\n",
       "      <td>Good Will Hunting (1997)</td>\n",
       "      <td>[[4.1326284]]</td>\n",
       "    </tr>\n",
       "    <tr>\n",
       "      <th>10</th>\n",
       "      <td>L.A. Confidential (1997)</td>\n",
       "      <td>[[4.060441]]</td>\n",
       "    </tr>\n",
       "    <tr>\n",
       "      <th>12</th>\n",
       "      <td>Titanic (1997)</td>\n",
       "      <td>[[4.035684]]</td>\n",
       "    </tr>\n",
       "    <tr>\n",
       "      <th>11</th>\n",
       "      <td>Contact (1997)</td>\n",
       "      <td>[[3.646411]]</td>\n",
       "    </tr>\n",
       "    <tr>\n",
       "      <th>5</th>\n",
       "      <td>Air Force One (1997)</td>\n",
       "      <td>[[3.511013]]</td>\n",
       "    </tr>\n",
       "    <tr>\n",
       "      <th>0</th>\n",
       "      <td>Game, The (1997)</td>\n",
       "      <td>[[3.46806]]</td>\n",
       "    </tr>\n",
       "    <tr>\n",
       "      <th>4</th>\n",
       "      <td>Devil's Advocate, The (1997)</td>\n",
       "      <td>[[3.3981512]]</td>\n",
       "    </tr>\n",
       "    <tr>\n",
       "      <th>3</th>\n",
       "      <td>Edge, The (1997)</td>\n",
       "      <td>[[3.3469694]]</td>\n",
       "    </tr>\n",
       "    <tr>\n",
       "      <th>6</th>\n",
       "      <td>Kiss the Girls (1997)</td>\n",
       "      <td>[[3.3126547]]</td>\n",
       "    </tr>\n",
       "    <tr>\n",
       "      <th>14</th>\n",
       "      <td>Cop Land (1997)</td>\n",
       "      <td>[[3.3033464]]</td>\n",
       "    </tr>\n",
       "    <tr>\n",
       "      <th>7</th>\n",
       "      <td>Scream (1996)</td>\n",
       "      <td>[[3.2738981]]</td>\n",
       "    </tr>\n",
       "    <tr>\n",
       "      <th>2</th>\n",
       "      <td>Conspiracy Theory (1997)</td>\n",
       "      <td>[[3.2620792]]</td>\n",
       "    </tr>\n",
       "    <tr>\n",
       "      <th>19</th>\n",
       "      <td>U Turn (1997)</td>\n",
       "      <td>[[3.2123463]]</td>\n",
       "    </tr>\n",
       "    <tr>\n",
       "      <th>1</th>\n",
       "      <td>G.I. Jane (1997)</td>\n",
       "      <td>[[3.2097106]]</td>\n",
       "    </tr>\n",
       "    <tr>\n",
       "      <th>13</th>\n",
       "      <td>Peacemaker, The (1997)</td>\n",
       "      <td>[[3.1678069]]</td>\n",
       "    </tr>\n",
       "    <tr>\n",
       "      <th>18</th>\n",
       "      <td>Murder at 1600 (1997)</td>\n",
       "      <td>[[3.0338507]]</td>\n",
       "    </tr>\n",
       "    <tr>\n",
       "      <th>8</th>\n",
       "      <td>Devil's Own, The (1997)</td>\n",
       "      <td>[[3.0142272]]</td>\n",
       "    </tr>\n",
       "    <tr>\n",
       "      <th>9</th>\n",
       "      <td>Jackal, The (1997)</td>\n",
       "      <td>[[2.995912]]</td>\n",
       "    </tr>\n",
       "    <tr>\n",
       "      <th>15</th>\n",
       "      <td>Hoodlum (1997)</td>\n",
       "      <td>[[2.823587]]</td>\n",
       "    </tr>\n",
       "    <tr>\n",
       "      <th>17</th>\n",
       "      <td>Volcano (1997)</td>\n",
       "      <td>[[2.7259147]]</td>\n",
       "    </tr>\n",
       "  </tbody>\n",
       "</table>\n",
       "</div>"
      ],
      "text/plain": [
       "                           Title Your Predicted Rating\n",
       "16      Good Will Hunting (1997)         [[4.1326284]]\n",
       "10      L.A. Confidential (1997)          [[4.060441]]\n",
       "12                Titanic (1997)          [[4.035684]]\n",
       "11                Contact (1997)          [[3.646411]]\n",
       "5           Air Force One (1997)          [[3.511013]]\n",
       "0               Game, The (1997)           [[3.46806]]\n",
       "4   Devil's Advocate, The (1997)         [[3.3981512]]\n",
       "3               Edge, The (1997)         [[3.3469694]]\n",
       "6          Kiss the Girls (1997)         [[3.3126547]]\n",
       "14               Cop Land (1997)         [[3.3033464]]\n",
       "7                  Scream (1996)         [[3.2738981]]\n",
       "2       Conspiracy Theory (1997)         [[3.2620792]]\n",
       "19                 U Turn (1997)         [[3.2123463]]\n",
       "1               G.I. Jane (1997)         [[3.2097106]]\n",
       "13        Peacemaker, The (1997)         [[3.1678069]]\n",
       "18         Murder at 1600 (1997)         [[3.0338507]]\n",
       "8        Devil's Own, The (1997)         [[3.0142272]]\n",
       "9             Jackal, The (1997)          [[2.995912]]\n",
       "15                Hoodlum (1997)          [[2.823587]]\n",
       "17                Volcano (1997)         [[2.7259147]]"
      ]
     },
     "execution_count": 156,
     "metadata": {},
     "output_type": "execute_result"
    }
   ],
   "source": [
    "both('Game, The (1997)')"
   ]
  },
  {
   "cell_type": "markdown",
   "id": "6e633c38",
   "metadata": {},
   "source": [
    "# "
   ]
  },
  {
   "cell_type": "markdown",
   "id": "552a320d",
   "metadata": {},
   "source": [
    "# Thank you!"
   ]
  }
 ],
 "metadata": {
  "kernelspec": {
   "display_name": "Python 3 (ipykernel)",
   "language": "python",
   "name": "python3"
  },
  "language_info": {
   "codemirror_mode": {
    "name": "ipython",
    "version": 3
   },
   "file_extension": ".py",
   "mimetype": "text/x-python",
   "name": "python",
   "nbconvert_exporter": "python",
   "pygments_lexer": "ipython3",
   "version": "3.9.13"
  }
 },
 "nbformat": 4,
 "nbformat_minor": 5
}
