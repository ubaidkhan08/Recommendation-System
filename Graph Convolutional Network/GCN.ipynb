{
 "cells": [
  {
   "cell_type": "markdown",
   "id": "63a014d3",
   "metadata": {},
   "source": [
    "# Graph Convolutional Network in Recommendation System"
   ]
  },
  {
   "cell_type": "markdown",
   "id": "4e9e6aa3",
   "metadata": {},
   "source": [
    "# Importing Libraries"
   ]
  },
  {
   "cell_type": "code",
   "execution_count": 1,
   "id": "bc2765fb",
   "metadata": {},
   "outputs": [],
   "source": [
    "import numpy as np\n",
    "%matplotlib inline\n",
    "import pandas as pd\n",
    "import tensorflow as tf\n",
    "from tensorflow.keras import layers\n",
    "import matplotlib.pyplot as plt\n",
    "from keras import backend as K"
   ]
  },
  {
   "cell_type": "markdown",
   "id": "c478801b",
   "metadata": {},
   "source": [
    "# "
   ]
  },
  {
   "cell_type": "markdown",
   "id": "76ed6438",
   "metadata": {},
   "source": [
    "# Reading the Dataset"
   ]
  },
  {
   "cell_type": "code",
   "execution_count": 2,
   "id": "c3f7c2fb",
   "metadata": {
    "scrolled": true
   },
   "outputs": [],
   "source": [
    "df = pd.read_csv('data/Dataset.csv')\n",
    "series1 = df['user_id']\n",
    "series2 = df['item_id']\n",
    "series3 = df['rating']\n",
    "\n",
    "train_data = list(zip(series1, series2, series3))\n",
    "train_labels = series3.tolist()\n",
    "\n",
    "val_data = train_data[60001:72001]\n",
    "val_labels = train_labels[60001:72001]"
   ]
  },
  {
   "cell_type": "markdown",
   "id": "e3105e43",
   "metadata": {},
   "source": [
    "# "
   ]
  },
  {
   "cell_type": "markdown",
   "id": "b18f0cdc",
   "metadata": {},
   "source": [
    "# Building a GCN-based recommendation model\n",
    "`The GCN model is implemented as a subclass of the TensorFlow Keras Model API, and it takes as inputs the user and item indices for a set of ratings. The model then learns embeddings for users and items using two embedding layers. These embeddings are concatenated and passed through a GCN layer to incorporate the graph structure of the user-item interactions.The GCN model is used because it can effectively capture the underlying relationships and interactions between users and items in a graph structure.`"
   ]
  },
  {
   "cell_type": "code",
   "execution_count": 166,
   "id": "0168d4c1",
   "metadata": {
    "scrolled": true
   },
   "outputs": [
    {
     "name": "stdout",
     "output_type": "stream",
     "text": [
      "Epoch 1/30\n",
      "1563/1563 [==============================] - 13s 5ms/step - loss: 2.1883 - recall_m: 0.9654 - val_loss: 0.9403 - val_recall_m: 0.9998\n",
      "Epoch 2/30\n",
      "1563/1563 [==============================] - 8s 5ms/step - loss: 1.2335 - recall_m: 0.9996 - val_loss: 0.9086 - val_recall_m: 0.9999\n",
      "Epoch 3/30\n",
      "1563/1563 [==============================] - 10s 7ms/step - loss: 1.1069 - recall_m: 0.9997 - val_loss: 0.8636 - val_recall_m: 0.9999\n",
      "Epoch 4/30\n",
      "1563/1563 [==============================] - 7s 4ms/step - loss: 1.0063 - recall_m: 0.9999 - val_loss: 0.8552 - val_recall_m: 0.9999\n",
      "Epoch 5/30\n",
      "1563/1563 [==============================] - 7s 5ms/step - loss: 0.9499 - recall_m: 0.9999 - val_loss: 0.8535 - val_recall_m: 1.0000\n",
      "Epoch 6/30\n",
      "1563/1563 [==============================] - 8s 5ms/step - loss: 0.9196 - recall_m: 0.9999 - val_loss: 0.8438 - val_recall_m: 1.0000\n",
      "Epoch 7/30\n",
      "1563/1563 [==============================] - 11s 7ms/step - loss: 0.9056 - recall_m: 0.9998 - val_loss: 0.8457 - val_recall_m: 1.0000\n",
      "Epoch 8/30\n",
      "1563/1563 [==============================] - 9s 6ms/step - loss: 0.8939 - recall_m: 0.9998 - val_loss: 0.8423 - val_recall_m: 1.0000\n",
      "Epoch 9/30\n",
      "1563/1563 [==============================] - 7s 5ms/step - loss: 0.8868 - recall_m: 0.9997 - val_loss: 0.8438 - val_recall_m: 1.0000\n",
      "Epoch 10/30\n",
      "1563/1563 [==============================] - 7s 5ms/step - loss: 0.8843 - recall_m: 0.9998 - val_loss: 0.8401 - val_recall_m: 1.0000\n",
      "Epoch 11/30\n",
      "1563/1563 [==============================] - 7s 5ms/step - loss: 0.8811 - recall_m: 0.9997 - val_loss: 0.8447 - val_recall_m: 1.0000\n",
      "Epoch 12/30\n",
      "1563/1563 [==============================] - 7s 4ms/step - loss: 0.8780 - recall_m: 0.9997 - val_loss: 0.8417 - val_recall_m: 1.0000\n",
      "Epoch 13/30\n",
      "1563/1563 [==============================] - 9s 6ms/step - loss: 0.8756 - recall_m: 0.9996 - val_loss: 0.8391 - val_recall_m: 0.9999\n",
      "Epoch 14/30\n",
      "1563/1563 [==============================] - 9s 6ms/step - loss: 0.8739 - recall_m: 0.9996 - val_loss: 0.8417 - val_recall_m: 1.0000\n",
      "Epoch 15/30\n",
      "1563/1563 [==============================] - 9s 6ms/step - loss: 0.8730 - recall_m: 0.9996 - val_loss: 0.8386 - val_recall_m: 1.0000\n",
      "Epoch 16/30\n",
      "1563/1563 [==============================] - 8s 5ms/step - loss: 0.8711 - recall_m: 0.9996 - val_loss: 0.8398 - val_recall_m: 1.0000\n",
      "Epoch 17/30\n",
      "1563/1563 [==============================] - 10s 6ms/step - loss: 0.8714 - recall_m: 0.9996 - val_loss: 0.8415 - val_recall_m: 0.9998\n",
      "Epoch 18/30\n",
      "1563/1563 [==============================] - 8s 5ms/step - loss: 0.8693 - recall_m: 0.9995 - val_loss: 0.8423 - val_recall_m: 1.0000\n",
      "Epoch 19/30\n",
      "1563/1563 [==============================] - 9s 6ms/step - loss: 0.8681 - recall_m: 0.9995 - val_loss: 0.8388 - val_recall_m: 1.0000\n",
      "Epoch 20/30\n",
      "1563/1563 [==============================] - 12s 7ms/step - loss: 0.8690 - recall_m: 0.9997 - val_loss: 0.8379 - val_recall_m: 1.0000\n",
      "Epoch 21/30\n",
      "1563/1563 [==============================] - 8s 5ms/step - loss: 0.8672 - recall_m: 0.9995 - val_loss: 0.8399 - val_recall_m: 1.0000\n",
      "Epoch 22/30\n",
      "1563/1563 [==============================] - 8s 5ms/step - loss: 0.8661 - recall_m: 0.9996 - val_loss: 0.8374 - val_recall_m: 0.9998\n",
      "Epoch 23/30\n",
      "1563/1563 [==============================] - 8s 5ms/step - loss: 0.8660 - recall_m: 0.9995 - val_loss: 0.8441 - val_recall_m: 1.0000\n",
      "Epoch 24/30\n",
      "1563/1563 [==============================] - 8s 5ms/step - loss: 0.8651 - recall_m: 0.9995 - val_loss: 0.8391 - val_recall_m: 0.9999\n",
      "Epoch 25/30\n",
      "1563/1563 [==============================] - 8s 5ms/step - loss: 0.8635 - recall_m: 0.9995 - val_loss: 0.8388 - val_recall_m: 0.9998\n",
      "Epoch 26/30\n",
      "1563/1563 [==============================] - 7s 5ms/step - loss: 0.8644 - recall_m: 0.9994 - val_loss: 0.8386 - val_recall_m: 0.9999\n",
      "Epoch 27/30\n",
      "1563/1563 [==============================] - 8s 5ms/step - loss: 0.8645 - recall_m: 0.9995 - val_loss: 0.8417 - val_recall_m: 1.0000\n",
      "Epoch 28/30\n",
      "1563/1563 [==============================] - 8s 5ms/step - loss: 0.8630 - recall_m: 0.9995 - val_loss: 0.8388 - val_recall_m: 1.0000\n",
      "Epoch 29/30\n",
      "1563/1563 [==============================] - 11s 7ms/step - loss: 0.8636 - recall_m: 0.9994 - val_loss: 0.8382 - val_recall_m: 0.9998\n",
      "Epoch 30/30\n",
      "1563/1563 [==============================] - 7s 4ms/step - loss: 0.8647 - recall_m: 0.9995 - val_loss: 0.8383 - val_recall_m: 0.9998\n"
     ]
    },
    {
     "data": {
      "text/plain": [
       "<keras.callbacks.History at 0x23c90ba0e50>"
      ]
     },
     "execution_count": 166,
     "metadata": {},
     "output_type": "execute_result"
    }
   ],
   "source": [
    "class GraphConvolution(layers.Layer):\n",
    "    def __init__(self, output_dim):\n",
    "        super(GraphConvolution, self).__init__()\n",
    "        self.output_dim = output_dim\n",
    "\n",
    "    def build(self, input_shape):\n",
    "        self.kernel = self.add_weight(name='kernel', \n",
    "                                      shape=(input_shape[1], self.output_dim),\n",
    "                                      initializer='glorot_uniform',\n",
    "                                      trainable=True)\n",
    "\n",
    "    def call(self, inputs, adj_matrix):\n",
    "        # Compute the GCN layer output\n",
    "        support = tf.matmul(inputs, self.kernel)\n",
    "        output = tf.matmul(adj_matrix, support)\n",
    "        return output\n",
    "\n",
    "\n",
    "class GCNRecommendationModel(tf.keras.Model):\n",
    "    def __init__(self, num_users, num_items, embedding_dim, num_hidden_units):\n",
    "        super(GCNRecommendationModel, self).__init__()\n",
    "        self.user_embedding = layers.Embedding(num_users, embedding_dim,\n",
    "                                                embeddings_initializer='he_normal')\n",
    "        self.item_embedding = layers.Embedding(num_items, embedding_dim,\n",
    "                                                embeddings_initializer='he_normal')\n",
    "        self.gcn_layer = GraphConvolution(num_hidden_units)\n",
    "        self.dropout = layers.Dropout(0.5)\n",
    "        self.output_layer = layers.Dense(1, activation='relu')\n",
    "\n",
    "    def call(self, inputs):\n",
    "        # Extract user and item indices from the inputs\n",
    "        user_indices = inputs[:, 0]\n",
    "        item_indices = inputs[:, 1]\n",
    "\n",
    "        # Embed the users and items\n",
    "        user_embedding = self.user_embedding(user_indices)\n",
    "        item_embedding = self.item_embedding(item_indices)\n",
    "\n",
    "        # Concatenate the user and item embeddings\n",
    "        concatenated = tf.concat([user_embedding, item_embedding], axis=1)\n",
    "\n",
    "        # Compute the GCN layer output\n",
    "        adj_matrix = tf.eye(tf.shape(concatenated)[0])\n",
    "        gcn_output = self.gcn_layer(concatenated, adj_matrix)\n",
    "\n",
    "        # Apply dropout and output layer\n",
    "        output = self.dropout(gcn_output)\n",
    "        output = self.output_layer(output)\n",
    "\n",
    "        return output\n",
    "    \n",
    "def recall_m(y_true, y_pred):\n",
    "    true_positives = K.sum(K.round(K.clip(y_true * y_pred, 0, 1)))\n",
    "    possible_positives = K.sum(K.round(K.clip(y_true, 0, 1)))\n",
    "    recall = true_positives / (possible_positives + K.epsilon())\n",
    "    return recall\n",
    "\n",
    "model = GCNRecommendationModel(5000, 7000, embedding_dim=16, num_hidden_units=32)\n",
    "model.compile(optimizer='adam', loss='mean_squared_error', metrics=[recall_m])\n",
    "model.fit(train_data, train_labels, epochs=30, batch_size=64, validation_data=(val_data, val_labels))"
   ]
  },
  {
   "cell_type": "markdown",
   "id": "f2210d18",
   "metadata": {},
   "source": [
    "# "
   ]
  },
  {
   "cell_type": "markdown",
   "id": "39145021",
   "metadata": {},
   "source": [
    "# Saving the Model"
   ]
  },
  {
   "cell_type": "code",
   "execution_count": null,
   "id": "cbc399a2",
   "metadata": {},
   "outputs": [],
   "source": [
    "model.save('my_gcn_model')"
   ]
  },
  {
   "cell_type": "markdown",
   "id": "41913952",
   "metadata": {},
   "source": [
    "# "
   ]
  },
  {
   "cell_type": "markdown",
   "id": "5b9486ed",
   "metadata": {},
   "source": [
    "# Merging Item-based Collaborative Filtering with GCN!\n",
    "`By combining Collaborative Filtering and GCN, we can potentially improve the performance of recommendation systems. The Collaborative Filtering can capture the similarities between users or items based on their ratings, while GCN can capture the latent representation of users and items based on the graph structure and feature information. The combination of the two can potentially overcome the limitations of each individual method and provide better recommendations.`"
   ]
  },
  {
   "cell_type": "code",
   "execution_count": 9,
   "id": "59dc8a59",
   "metadata": {},
   "outputs": [],
   "source": [
    "rating = pd.read_csv(\"data/Dataset.csv\")\n",
    "movie = pd.read_csv(\"data/Movie_Id_Titles.csv\")\n",
    "df = pd.merge(movie, rating, on='item_id')\n",
    "\n",
    "# Average Rating and Number of Ratings + Pivot Table!\n",
    "ratings = pd.DataFrame(df.groupby('title')['rating'].mean())\n",
    "ratings['rating_numbers'] = pd.DataFrame(df.groupby('title')['rating'].count())\n",
    "movieRate = df.pivot_table(index='user_id', columns='title', values='rating')\n",
    "movieRate.fillna(0, inplace=True)\n",
    "\n",
    "# Recommendation system\n",
    "def recommendMovies(name , min_rating_count = 50):\n",
    "    user_rating = movieRate[name]\n",
    "    similar_movies = movieRate.corrwith(user_rating)\n",
    "    corr_movies = pd.DataFrame(similar_movies, columns=['Correlation'])\n",
    "    corr_movies.dropna(inplace=True)\n",
    "    corr_movies = corr_movies.join(ratings['rating_numbers'], how='left', lsuffix='_left', rsuffix='_right')\n",
    "    final = corr_movies[corr_movies['rating_numbers']>min_rating_count].sort_values('Correlation', ascending=False)\n",
    "    dfff = final.merge(df,how='left',on='title')\n",
    "    dfff = dfff.groupby(['title', 'Correlation', 'rating_numbers', 'item_id']).size().to_frame()[0].to_frame().reset_index()\n",
    "    dfff = dfff[['title','Correlation','rating_numbers','item_id']].sort_values(by=['Correlation'], ascending=False)\n",
    "    return dfff.head(20)\n",
    "\n",
    "\n",
    "def merged(fav_movie):\n",
    "    df = recommendMovies(fav_movie)\n",
    "    ser1 = df['title']\n",
    "    ser2 = df['item_id']\n",
    "\n",
    "    def predict(user_id):\n",
    "        prediction = []\n",
    "        for x in (ser2):\n",
    "            a = model.predict([(user_id, x)])\n",
    "            prediction.append(a)\n",
    "        return prediction\n",
    "\n",
    "    top = predict(0)\n",
    "\n",
    "    # combine the Series and list into a DataFrame\n",
    "    df = pd.DataFrame({'Title': ser1, 'Your Predicted Rating': top})\n",
    "    df = df.reset_index(drop=True)\n",
    "    df = df.sort_values(by=['Your Predicted Rating'], ascending=False)\n",
    "    return df"
   ]
  },
  {
   "cell_type": "markdown",
   "id": "d04a88b5",
   "metadata": {},
   "source": [
    "# "
   ]
  },
  {
   "cell_type": "code",
   "execution_count": 156,
   "id": "31efb1cb",
   "metadata": {},
   "outputs": [
    {
     "name": "stdout",
     "output_type": "stream",
     "text": [
      "1/1 [==============================] - 0s 63ms/step\n",
      "1/1 [==============================] - 0s 66ms/step\n",
      "1/1 [==============================] - 0s 59ms/step\n",
      "1/1 [==============================] - 0s 69ms/step\n",
      "1/1 [==============================] - 0s 73ms/step\n",
      "1/1 [==============================] - 0s 68ms/step\n",
      "1/1 [==============================] - 0s 65ms/step\n",
      "1/1 [==============================] - 0s 56ms/step\n",
      "1/1 [==============================] - 0s 63ms/step\n",
      "1/1 [==============================] - 0s 62ms/step\n",
      "1/1 [==============================] - 0s 87ms/step\n",
      "1/1 [==============================] - 0s 49ms/step\n",
      "1/1 [==============================] - 0s 40ms/step\n",
      "1/1 [==============================] - 0s 47ms/step\n",
      "1/1 [==============================] - 0s 60ms/step\n",
      "1/1 [==============================] - 0s 56ms/step\n",
      "1/1 [==============================] - 0s 39ms/step\n",
      "1/1 [==============================] - 0s 47ms/step\n",
      "1/1 [==============================] - 0s 46ms/step\n",
      "1/1 [==============================] - 0s 72ms/step\n"
     ]
    },
    {
     "data": {
      "text/html": [
       "<div>\n",
       "<style scoped>\n",
       "    .dataframe tbody tr th:only-of-type {\n",
       "        vertical-align: middle;\n",
       "    }\n",
       "\n",
       "    .dataframe tbody tr th {\n",
       "        vertical-align: top;\n",
       "    }\n",
       "\n",
       "    .dataframe thead th {\n",
       "        text-align: right;\n",
       "    }\n",
       "</style>\n",
       "<table border=\"1\" class=\"dataframe\">\n",
       "  <thead>\n",
       "    <tr style=\"text-align: right;\">\n",
       "      <th></th>\n",
       "      <th>Title</th>\n",
       "      <th>Your Predicted Rating</th>\n",
       "    </tr>\n",
       "  </thead>\n",
       "  <tbody>\n",
       "    <tr>\n",
       "      <th>16</th>\n",
       "      <td>Good Will Hunting (1997)</td>\n",
       "      <td>[[4.1326284]]</td>\n",
       "    </tr>\n",
       "    <tr>\n",
       "      <th>10</th>\n",
       "      <td>L.A. Confidential (1997)</td>\n",
       "      <td>[[4.060441]]</td>\n",
       "    </tr>\n",
       "    <tr>\n",
       "      <th>12</th>\n",
       "      <td>Titanic (1997)</td>\n",
       "      <td>[[4.035684]]</td>\n",
       "    </tr>\n",
       "    <tr>\n",
       "      <th>11</th>\n",
       "      <td>Contact (1997)</td>\n",
       "      <td>[[3.646411]]</td>\n",
       "    </tr>\n",
       "    <tr>\n",
       "      <th>5</th>\n",
       "      <td>Air Force One (1997)</td>\n",
       "      <td>[[3.511013]]</td>\n",
       "    </tr>\n",
       "    <tr>\n",
       "      <th>0</th>\n",
       "      <td>Game, The (1997)</td>\n",
       "      <td>[[3.46806]]</td>\n",
       "    </tr>\n",
       "    <tr>\n",
       "      <th>4</th>\n",
       "      <td>Devil's Advocate, The (1997)</td>\n",
       "      <td>[[3.3981512]]</td>\n",
       "    </tr>\n",
       "    <tr>\n",
       "      <th>3</th>\n",
       "      <td>Edge, The (1997)</td>\n",
       "      <td>[[3.3469694]]</td>\n",
       "    </tr>\n",
       "    <tr>\n",
       "      <th>6</th>\n",
       "      <td>Kiss the Girls (1997)</td>\n",
       "      <td>[[3.3126547]]</td>\n",
       "    </tr>\n",
       "    <tr>\n",
       "      <th>14</th>\n",
       "      <td>Cop Land (1997)</td>\n",
       "      <td>[[3.3033464]]</td>\n",
       "    </tr>\n",
       "    <tr>\n",
       "      <th>7</th>\n",
       "      <td>Scream (1996)</td>\n",
       "      <td>[[3.2738981]]</td>\n",
       "    </tr>\n",
       "    <tr>\n",
       "      <th>2</th>\n",
       "      <td>Conspiracy Theory (1997)</td>\n",
       "      <td>[[3.2620792]]</td>\n",
       "    </tr>\n",
       "    <tr>\n",
       "      <th>19</th>\n",
       "      <td>U Turn (1997)</td>\n",
       "      <td>[[3.2123463]]</td>\n",
       "    </tr>\n",
       "    <tr>\n",
       "      <th>1</th>\n",
       "      <td>G.I. Jane (1997)</td>\n",
       "      <td>[[3.2097106]]</td>\n",
       "    </tr>\n",
       "    <tr>\n",
       "      <th>13</th>\n",
       "      <td>Peacemaker, The (1997)</td>\n",
       "      <td>[[3.1678069]]</td>\n",
       "    </tr>\n",
       "    <tr>\n",
       "      <th>18</th>\n",
       "      <td>Murder at 1600 (1997)</td>\n",
       "      <td>[[3.0338507]]</td>\n",
       "    </tr>\n",
       "    <tr>\n",
       "      <th>8</th>\n",
       "      <td>Devil's Own, The (1997)</td>\n",
       "      <td>[[3.0142272]]</td>\n",
       "    </tr>\n",
       "    <tr>\n",
       "      <th>9</th>\n",
       "      <td>Jackal, The (1997)</td>\n",
       "      <td>[[2.995912]]</td>\n",
       "    </tr>\n",
       "    <tr>\n",
       "      <th>15</th>\n",
       "      <td>Hoodlum (1997)</td>\n",
       "      <td>[[2.823587]]</td>\n",
       "    </tr>\n",
       "    <tr>\n",
       "      <th>17</th>\n",
       "      <td>Volcano (1997)</td>\n",
       "      <td>[[2.7259147]]</td>\n",
       "    </tr>\n",
       "  </tbody>\n",
       "</table>\n",
       "</div>"
      ],
      "text/plain": [
       "                           Title Your Predicted Rating\n",
       "16      Good Will Hunting (1997)         [[4.1326284]]\n",
       "10      L.A. Confidential (1997)          [[4.060441]]\n",
       "12                Titanic (1997)          [[4.035684]]\n",
       "11                Contact (1997)          [[3.646411]]\n",
       "5           Air Force One (1997)          [[3.511013]]\n",
       "0               Game, The (1997)           [[3.46806]]\n",
       "4   Devil's Advocate, The (1997)         [[3.3981512]]\n",
       "3               Edge, The (1997)         [[3.3469694]]\n",
       "6          Kiss the Girls (1997)         [[3.3126547]]\n",
       "14               Cop Land (1997)         [[3.3033464]]\n",
       "7                  Scream (1996)         [[3.2738981]]\n",
       "2       Conspiracy Theory (1997)         [[3.2620792]]\n",
       "19                 U Turn (1997)         [[3.2123463]]\n",
       "1               G.I. Jane (1997)         [[3.2097106]]\n",
       "13        Peacemaker, The (1997)         [[3.1678069]]\n",
       "18         Murder at 1600 (1997)         [[3.0338507]]\n",
       "8        Devil's Own, The (1997)         [[3.0142272]]\n",
       "9             Jackal, The (1997)          [[2.995912]]\n",
       "15                Hoodlum (1997)          [[2.823587]]\n",
       "17                Volcano (1997)         [[2.7259147]]"
      ]
     },
     "execution_count": 156,
     "metadata": {},
     "output_type": "execute_result"
    }
   ],
   "source": [
    "merged('Game, The (1997)')"
   ]
  },
  {
   "cell_type": "markdown",
   "id": "6e633c38",
   "metadata": {},
   "source": [
    "# "
   ]
  }
 ],
 "metadata": {
  "kernelspec": {
   "display_name": "Python 3 (ipykernel)",
   "language": "python",
   "name": "python3"
  },
  "language_info": {
   "codemirror_mode": {
    "name": "ipython",
    "version": 3
   },
   "file_extension": ".py",
   "mimetype": "text/x-python",
   "name": "python",
   "nbconvert_exporter": "python",
   "pygments_lexer": "ipython3",
   "version": "3.9.13"
  }
 },
 "nbformat": 4,
 "nbformat_minor": 5
}
